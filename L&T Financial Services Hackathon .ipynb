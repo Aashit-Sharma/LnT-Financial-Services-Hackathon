{
 "cells": [
  {
   "cell_type": "code",
   "execution_count": 69,
   "metadata": {},
   "outputs": [],
   "source": [
    "import matplotlib.pyplot as plt\n",
    "import seaborn as sns\n",
    "from mpl_toolkits.mplot3d import Axes3D\n",
    "\n",
    "import gc\n",
    "import lightgbm as lgb\n",
    "import catboost as cb\n",
    "from sklearn.model_selection import StratifiedKFold, cross_val_score, cross_val_predict, KFold\n",
    "from sklearn.metrics import roc_auc_score\n",
    "\n",
    "import pandas as pd\n",
    "import numpy as np\n",
    "\n",
    "import warnings\n",
    "warnings.filterwarnings('ignore')\n",
    "\n",
    "%matplotlib inline"
   ]
  },
  {
   "cell_type": "code",
   "execution_count": 40,
   "metadata": {},
   "outputs": [],
   "source": [
    "train_df = pd.read_csv('./data/train.csv')\n",
    "temp_df = train_df.copy()\n",
    "og_train_df= train_df.copy()\n",
    "\n",
    "test_df= pd.read_csv('./data/test.csv')"
   ]
  },
  {
   "cell_type": "markdown",
   "metadata": {},
   "source": [
    "# Exploratory Data Analysis (EDA)"
   ]
  },
  {
   "cell_type": "code",
   "execution_count": 16,
   "metadata": {},
   "outputs": [
    {
     "data": {
      "text/html": [
       "<div>\n",
       "<style scoped>\n",
       "    .dataframe tbody tr th:only-of-type {\n",
       "        vertical-align: middle;\n",
       "    }\n",
       "\n",
       "    .dataframe tbody tr th {\n",
       "        vertical-align: top;\n",
       "    }\n",
       "\n",
       "    .dataframe thead th {\n",
       "        text-align: right;\n",
       "    }\n",
       "</style>\n",
       "<table border=\"1\" class=\"dataframe\">\n",
       "  <thead>\n",
       "    <tr style=\"text-align: right;\">\n",
       "      <th></th>\n",
       "      <th>UniqueID</th>\n",
       "      <th>disbursed_amount</th>\n",
       "      <th>asset_cost</th>\n",
       "      <th>ltv</th>\n",
       "      <th>branch_id</th>\n",
       "      <th>supplier_id</th>\n",
       "      <th>manufacturer_id</th>\n",
       "      <th>Current_pincode_ID</th>\n",
       "      <th>Date.of.Birth</th>\n",
       "      <th>Employment.Type</th>\n",
       "      <th>...</th>\n",
       "      <th>SEC.SANCTIONED.AMOUNT</th>\n",
       "      <th>SEC.DISBURSED.AMOUNT</th>\n",
       "      <th>PRIMARY.INSTAL.AMT</th>\n",
       "      <th>SEC.INSTAL.AMT</th>\n",
       "      <th>NEW.ACCTS.IN.LAST.SIX.MONTHS</th>\n",
       "      <th>DELINQUENT.ACCTS.IN.LAST.SIX.MONTHS</th>\n",
       "      <th>AVERAGE.ACCT.AGE</th>\n",
       "      <th>CREDIT.HISTORY.LENGTH</th>\n",
       "      <th>NO.OF_INQUIRIES</th>\n",
       "      <th>loan_default</th>\n",
       "    </tr>\n",
       "  </thead>\n",
       "  <tbody>\n",
       "    <tr>\n",
       "      <th>0</th>\n",
       "      <td>420825</td>\n",
       "      <td>50578</td>\n",
       "      <td>58400</td>\n",
       "      <td>89.55</td>\n",
       "      <td>67</td>\n",
       "      <td>22807</td>\n",
       "      <td>45</td>\n",
       "      <td>1441</td>\n",
       "      <td>01-01-84</td>\n",
       "      <td>Salaried</td>\n",
       "      <td>...</td>\n",
       "      <td>0</td>\n",
       "      <td>0</td>\n",
       "      <td>0</td>\n",
       "      <td>0</td>\n",
       "      <td>0</td>\n",
       "      <td>0</td>\n",
       "      <td>0yrs 0mon</td>\n",
       "      <td>0yrs 0mon</td>\n",
       "      <td>0</td>\n",
       "      <td>0</td>\n",
       "    </tr>\n",
       "    <tr>\n",
       "      <th>1</th>\n",
       "      <td>537409</td>\n",
       "      <td>47145</td>\n",
       "      <td>65550</td>\n",
       "      <td>73.23</td>\n",
       "      <td>67</td>\n",
       "      <td>22807</td>\n",
       "      <td>45</td>\n",
       "      <td>1502</td>\n",
       "      <td>31-07-85</td>\n",
       "      <td>Self employed</td>\n",
       "      <td>...</td>\n",
       "      <td>0</td>\n",
       "      <td>0</td>\n",
       "      <td>1991</td>\n",
       "      <td>0</td>\n",
       "      <td>0</td>\n",
       "      <td>1</td>\n",
       "      <td>1yrs 11mon</td>\n",
       "      <td>1yrs 11mon</td>\n",
       "      <td>0</td>\n",
       "      <td>1</td>\n",
       "    </tr>\n",
       "    <tr>\n",
       "      <th>2</th>\n",
       "      <td>417566</td>\n",
       "      <td>53278</td>\n",
       "      <td>61360</td>\n",
       "      <td>89.63</td>\n",
       "      <td>67</td>\n",
       "      <td>22807</td>\n",
       "      <td>45</td>\n",
       "      <td>1497</td>\n",
       "      <td>24-08-85</td>\n",
       "      <td>Self employed</td>\n",
       "      <td>...</td>\n",
       "      <td>0</td>\n",
       "      <td>0</td>\n",
       "      <td>0</td>\n",
       "      <td>0</td>\n",
       "      <td>0</td>\n",
       "      <td>0</td>\n",
       "      <td>0yrs 0mon</td>\n",
       "      <td>0yrs 0mon</td>\n",
       "      <td>0</td>\n",
       "      <td>0</td>\n",
       "    </tr>\n",
       "    <tr>\n",
       "      <th>3</th>\n",
       "      <td>624493</td>\n",
       "      <td>57513</td>\n",
       "      <td>66113</td>\n",
       "      <td>88.48</td>\n",
       "      <td>67</td>\n",
       "      <td>22807</td>\n",
       "      <td>45</td>\n",
       "      <td>1501</td>\n",
       "      <td>30-12-93</td>\n",
       "      <td>Self employed</td>\n",
       "      <td>...</td>\n",
       "      <td>0</td>\n",
       "      <td>0</td>\n",
       "      <td>31</td>\n",
       "      <td>0</td>\n",
       "      <td>0</td>\n",
       "      <td>0</td>\n",
       "      <td>0yrs 8mon</td>\n",
       "      <td>1yrs 3mon</td>\n",
       "      <td>1</td>\n",
       "      <td>1</td>\n",
       "    </tr>\n",
       "    <tr>\n",
       "      <th>4</th>\n",
       "      <td>539055</td>\n",
       "      <td>52378</td>\n",
       "      <td>60300</td>\n",
       "      <td>88.39</td>\n",
       "      <td>67</td>\n",
       "      <td>22807</td>\n",
       "      <td>45</td>\n",
       "      <td>1495</td>\n",
       "      <td>09-12-77</td>\n",
       "      <td>Self employed</td>\n",
       "      <td>...</td>\n",
       "      <td>0</td>\n",
       "      <td>0</td>\n",
       "      <td>0</td>\n",
       "      <td>0</td>\n",
       "      <td>0</td>\n",
       "      <td>0</td>\n",
       "      <td>0yrs 0mon</td>\n",
       "      <td>0yrs 0mon</td>\n",
       "      <td>1</td>\n",
       "      <td>1</td>\n",
       "    </tr>\n",
       "    <tr>\n",
       "      <th>5</th>\n",
       "      <td>518279</td>\n",
       "      <td>54513</td>\n",
       "      <td>61900</td>\n",
       "      <td>89.66</td>\n",
       "      <td>67</td>\n",
       "      <td>22807</td>\n",
       "      <td>45</td>\n",
       "      <td>1501</td>\n",
       "      <td>08-09-90</td>\n",
       "      <td>Self employed</td>\n",
       "      <td>...</td>\n",
       "      <td>0</td>\n",
       "      <td>0</td>\n",
       "      <td>1347</td>\n",
       "      <td>0</td>\n",
       "      <td>0</td>\n",
       "      <td>0</td>\n",
       "      <td>1yrs 9mon</td>\n",
       "      <td>2yrs 0mon</td>\n",
       "      <td>0</td>\n",
       "      <td>0</td>\n",
       "    </tr>\n",
       "    <tr>\n",
       "      <th>6</th>\n",
       "      <td>529269</td>\n",
       "      <td>46349</td>\n",
       "      <td>61500</td>\n",
       "      <td>76.42</td>\n",
       "      <td>67</td>\n",
       "      <td>22807</td>\n",
       "      <td>45</td>\n",
       "      <td>1502</td>\n",
       "      <td>01-06-88</td>\n",
       "      <td>Salaried</td>\n",
       "      <td>...</td>\n",
       "      <td>0</td>\n",
       "      <td>0</td>\n",
       "      <td>0</td>\n",
       "      <td>0</td>\n",
       "      <td>0</td>\n",
       "      <td>0</td>\n",
       "      <td>0yrs 0mon</td>\n",
       "      <td>0yrs 0mon</td>\n",
       "      <td>0</td>\n",
       "      <td>0</td>\n",
       "    </tr>\n",
       "    <tr>\n",
       "      <th>7</th>\n",
       "      <td>510278</td>\n",
       "      <td>43894</td>\n",
       "      <td>61900</td>\n",
       "      <td>71.89</td>\n",
       "      <td>67</td>\n",
       "      <td>22807</td>\n",
       "      <td>45</td>\n",
       "      <td>1501</td>\n",
       "      <td>04-10-89</td>\n",
       "      <td>Salaried</td>\n",
       "      <td>...</td>\n",
       "      <td>0</td>\n",
       "      <td>0</td>\n",
       "      <td>0</td>\n",
       "      <td>0</td>\n",
       "      <td>0</td>\n",
       "      <td>0</td>\n",
       "      <td>0yrs 2mon</td>\n",
       "      <td>0yrs 2mon</td>\n",
       "      <td>0</td>\n",
       "      <td>0</td>\n",
       "    </tr>\n",
       "  </tbody>\n",
       "</table>\n",
       "<p>8 rows × 41 columns</p>\n",
       "</div>"
      ],
      "text/plain": [
       "   UniqueID  disbursed_amount  asset_cost    ltv  branch_id  supplier_id  \\\n",
       "0    420825             50578       58400  89.55         67        22807   \n",
       "1    537409             47145       65550  73.23         67        22807   \n",
       "2    417566             53278       61360  89.63         67        22807   \n",
       "3    624493             57513       66113  88.48         67        22807   \n",
       "4    539055             52378       60300  88.39         67        22807   \n",
       "5    518279             54513       61900  89.66         67        22807   \n",
       "6    529269             46349       61500  76.42         67        22807   \n",
       "7    510278             43894       61900  71.89         67        22807   \n",
       "\n",
       "   manufacturer_id  Current_pincode_ID Date.of.Birth Employment.Type  ...  \\\n",
       "0               45                1441      01-01-84        Salaried  ...   \n",
       "1               45                1502      31-07-85   Self employed  ...   \n",
       "2               45                1497      24-08-85   Self employed  ...   \n",
       "3               45                1501      30-12-93   Self employed  ...   \n",
       "4               45                1495      09-12-77   Self employed  ...   \n",
       "5               45                1501      08-09-90   Self employed  ...   \n",
       "6               45                1502      01-06-88        Salaried  ...   \n",
       "7               45                1501      04-10-89        Salaried  ...   \n",
       "\n",
       "  SEC.SANCTIONED.AMOUNT  SEC.DISBURSED.AMOUNT  PRIMARY.INSTAL.AMT  \\\n",
       "0                     0                     0                   0   \n",
       "1                     0                     0                1991   \n",
       "2                     0                     0                   0   \n",
       "3                     0                     0                  31   \n",
       "4                     0                     0                   0   \n",
       "5                     0                     0                1347   \n",
       "6                     0                     0                   0   \n",
       "7                     0                     0                   0   \n",
       "\n",
       "   SEC.INSTAL.AMT  NEW.ACCTS.IN.LAST.SIX.MONTHS  \\\n",
       "0               0                             0   \n",
       "1               0                             0   \n",
       "2               0                             0   \n",
       "3               0                             0   \n",
       "4               0                             0   \n",
       "5               0                             0   \n",
       "6               0                             0   \n",
       "7               0                             0   \n",
       "\n",
       "   DELINQUENT.ACCTS.IN.LAST.SIX.MONTHS  AVERAGE.ACCT.AGE  \\\n",
       "0                                    0         0yrs 0mon   \n",
       "1                                    1        1yrs 11mon   \n",
       "2                                    0         0yrs 0mon   \n",
       "3                                    0         0yrs 8mon   \n",
       "4                                    0         0yrs 0mon   \n",
       "5                                    0         1yrs 9mon   \n",
       "6                                    0         0yrs 0mon   \n",
       "7                                    0         0yrs 2mon   \n",
       "\n",
       "   CREDIT.HISTORY.LENGTH  NO.OF_INQUIRIES  loan_default  \n",
       "0              0yrs 0mon                0             0  \n",
       "1             1yrs 11mon                0             1  \n",
       "2              0yrs 0mon                0             0  \n",
       "3              1yrs 3mon                1             1  \n",
       "4              0yrs 0mon                1             1  \n",
       "5              2yrs 0mon                0             0  \n",
       "6              0yrs 0mon                0             0  \n",
       "7              0yrs 2mon                0             0  \n",
       "\n",
       "[8 rows x 41 columns]"
      ]
     },
     "execution_count": 16,
     "metadata": {},
     "output_type": "execute_result"
    }
   ],
   "source": [
    "train_df.head(8)\n"
   ]
  },
  {
   "cell_type": "code",
   "execution_count": 7,
   "metadata": {
    "scrolled": true
   },
   "outputs": [
    {
     "data": {
      "image/png": "[encoded data removed]",
      "text/plain": [
       "<Figure size 432x288 with 1 Axes>"
      ]
     },
     "metadata": {
      "needs_background": "light"
     },
     "output_type": "display_data"
    }
   ],
   "source": [
    "plot_fig = plt.figure()\n",
    "plot_axes = plt.axes()\n",
    "plot_axes.set_facecolor('black')\n",
    "\n",
    "the_target = temp_df['loan_default']\n",
    "the_target.replace(to_replace=[1, 0], value=['YES', 'NO'], inplace=True)\n",
    "\n",
    "plt.title('Ratio of People Who Defaulted',color= 'xkcd:tangerine')\n",
    "plot_axes = plot_axes.set(xlabel='Defaulted', ylabel='Number of People')\n",
    "the_target.value_counts().plot.bar(color='xkcd:sage')\n",
    "\n",
    "plt.show()\n"
   ]
  },
  {
   "cell_type": "code",
   "execution_count": 22,
   "metadata": {},
   "outputs": [
    {
     "data": {
      "text/plain": [
       "(UniqueID                                  0\n",
       " disbursed_amount                          0\n",
       " asset_cost                                0\n",
       " ltv                                       0\n",
       " branch_id                                 0\n",
       " supplier_id                               0\n",
       " manufacturer_id                           0\n",
       " Current_pincode_ID                        0\n",
       " Date.of.Birth                             0\n",
       " Employment.Type                        7661\n",
       " DisbursalDate                             0\n",
       " State_ID                                  0\n",
       " Employee_code_ID                          0\n",
       " MobileNo_Avl_Flag                         0\n",
       " Aadhar_flag                               0\n",
       " PAN_flag                                  0\n",
       " VoterID_flag                              0\n",
       " Driving_flag                              0\n",
       " Passport_flag                             0\n",
       " PERFORM_CNS.SCORE                         0\n",
       " PERFORM_CNS.SCORE.DESCRIPTION             0\n",
       " PRI.NO.OF.ACCTS                           0\n",
       " PRI.ACTIVE.ACCTS                          0\n",
       " PRI.OVERDUE.ACCTS                         0\n",
       " PRI.CURRENT.BALANCE                       0\n",
       " PRI.SANCTIONED.AMOUNT                     0\n",
       " PRI.DISBURSED.AMOUNT                      0\n",
       " SEC.NO.OF.ACCTS                           0\n",
       " SEC.ACTIVE.ACCTS                          0\n",
       " SEC.OVERDUE.ACCTS                         0\n",
       " SEC.CURRENT.BALANCE                       0\n",
       " SEC.SANCTIONED.AMOUNT                     0\n",
       " SEC.DISBURSED.AMOUNT                      0\n",
       " PRIMARY.INSTAL.AMT                        0\n",
       " SEC.INSTAL.AMT                            0\n",
       " NEW.ACCTS.IN.LAST.SIX.MONTHS              0\n",
       " DELINQUENT.ACCTS.IN.LAST.SIX.MONTHS       0\n",
       " AVERAGE.ACCT.AGE                          0\n",
       " CREDIT.HISTORY.LENGTH                     0\n",
       " NO.OF_INQUIRIES                           0\n",
       " loan_default                              0\n",
       " dtype: int64, (233154, 41))"
      ]
     },
     "execution_count": 22,
     "metadata": {},
     "output_type": "execute_result"
    }
   ],
   "source": [
    "train_df.isnull().sum(), train_df.shape\n"
   ]
  },
  {
   "cell_type": "code",
   "execution_count": 23,
   "metadata": {},
   "outputs": [
    {
     "data": {
      "text/plain": [
       "(UniqueID                                  0\n",
       " disbursed_amount                          0\n",
       " asset_cost                                0\n",
       " ltv                                       0\n",
       " branch_id                                 0\n",
       " supplier_id                               0\n",
       " manufacturer_id                           0\n",
       " Current_pincode_ID                        0\n",
       " Date.of.Birth                             0\n",
       " Employment.Type                        3443\n",
       " DisbursalDate                             0\n",
       " State_ID                                  0\n",
       " Employee_code_ID                          0\n",
       " MobileNo_Avl_Flag                         0\n",
       " Aadhar_flag                               0\n",
       " PAN_flag                                  0\n",
       " VoterID_flag                              0\n",
       " Driving_flag                              0\n",
       " Passport_flag                             0\n",
       " PERFORM_CNS.SCORE                         0\n",
       " PERFORM_CNS.SCORE.DESCRIPTION             0\n",
       " PRI.NO.OF.ACCTS                           0\n",
       " PRI.ACTIVE.ACCTS                          0\n",
       " PRI.OVERDUE.ACCTS                         0\n",
       " PRI.CURRENT.BALANCE                       0\n",
       " PRI.SANCTIONED.AMOUNT                     0\n",
       " PRI.DISBURSED.AMOUNT                      0\n",
       " SEC.NO.OF.ACCTS                           0\n",
       " SEC.ACTIVE.ACCTS                          0\n",
       " SEC.OVERDUE.ACCTS                         0\n",
       " SEC.CURRENT.BALANCE                       0\n",
       " SEC.SANCTIONED.AMOUNT                     0\n",
       " SEC.DISBURSED.AMOUNT                      0\n",
       " PRIMARY.INSTAL.AMT                        0\n",
       " SEC.INSTAL.AMT                            0\n",
       " NEW.ACCTS.IN.LAST.SIX.MONTHS              0\n",
       " DELINQUENT.ACCTS.IN.LAST.SIX.MONTHS       0\n",
       " AVERAGE.ACCT.AGE                          0\n",
       " CREDIT.HISTORY.LENGTH                     0\n",
       " NO.OF_INQUIRIES                           0\n",
       " dtype: int64, (112392, 40))"
      ]
     },
     "execution_count": 23,
     "metadata": {},
     "output_type": "execute_result"
    }
   ],
   "source": [
    "test_df.isnull().sum(), test_df.shape\n"
   ]
  },
  {
   "cell_type": "markdown",
   "metadata": {},
   "source": [
    "## Correlation Matrix calculation\n"
   ]
  },
  {
   "cell_type": "code",
   "execution_count": 9,
   "metadata": {
    "scrolled": true
   },
   "outputs": [
    {
     "data": {
      "image/png": "[encoded data removed]",
      "text/plain": [
       "<Figure size 1080x720 with 2 Axes>"
      ]
     },
     "metadata": {},
     "output_type": "display_data"
    }
   ],
   "source": [
    "k = 10\n",
    "correlation_mx = train_df.corr()\n",
    "\n",
    "fig2=plt.figure()\n",
    "sns.set(rc={'figure.figsize':(15,10)})\n",
    "\n",
    "cols = correlation_mx.nlargest(k, 'loan_default')['loan_default'].index\n",
    "cm = np.corrcoef(train_df[cols].values.T)\n",
    "\n",
    "sns.set(font_scale=1.25)\n",
    "hm = sns.heatmap(cm, cbar=True, annot=True, square=True, fmt='.2f', annot_kws={'size': 12}, yticklabels=cols.values, xticklabels=cols.values)\n",
    "\n",
    "plt.title('Correlation Matrix')\n",
    "plt.show()"
   ]
  },
  {
   "cell_type": "markdown",
   "metadata": {},
   "source": [
    "#### Sorted Pearson correlation coefficient"
   ]
  },
  {
   "cell_type": "code",
   "execution_count": 10,
   "metadata": {},
   "outputs": [
    {
     "data": {
      "text/plain": [
       "loan_default                           1.000000\n",
       "ltv                                    0.098208\n",
       "disbursed_amount                       0.077675\n",
       "State_ID                               0.048075\n",
       "VoterID_flag                           0.043747\n",
       "NO.OF_INQUIRIES                        0.043678\n",
       "PRI.OVERDUE.ACCTS                      0.040872\n",
       "DELINQUENT.ACCTS.IN.LAST.SIX.MONTHS    0.034462\n",
       "UniqueID                               0.033848\n",
       "branch_id                              0.030193\n",
       "Current_pincode_ID                     0.028419\n",
       "supplier_id                            0.027357\n",
       "Employee_code_ID                       0.020657\n",
       "asset_cost                             0.014261\n",
       "PAN_flag                               0.002046\n",
       "SEC.OVERDUE.ACCTS                     -0.001371\n",
       "SEC.INSTAL.AMT                        -0.001548\n",
       "SEC.CURRENT.BALANCE                   -0.005531\n",
       "Driving_flag                          -0.005821\n",
       "SEC.ACTIVE.ACCTS                      -0.005993\n",
       "SEC.DISBURSED.AMOUNT                  -0.006248\n",
       "SEC.SANCTIONED.AMOUNT                 -0.006354\n",
       "Passport_flag                         -0.007602\n",
       "SEC.NO.OF.ACCTS                       -0.008385\n",
       "PRIMARY.INSTAL.AMT                    -0.010616\n",
       "PRI.DISBURSED.AMOUNT                  -0.011155\n",
       "PRI.SANCTIONED.AMOUNT                 -0.011304\n",
       "manufacturer_id                       -0.025039\n",
       "PRI.CURRENT.BALANCE                   -0.027386\n",
       "NEW.ACCTS.IN.LAST.SIX.MONTHS          -0.029400\n",
       "PRI.NO.OF.ACCTS                       -0.035456\n",
       "PRI.ACTIVE.ACCTS                      -0.041451\n",
       "Aadhar_flag                           -0.041593\n",
       "PERFORM_CNS.SCORE                     -0.057929\n",
       "MobileNo_Avl_Flag                           NaN\n",
       "Name: loan_default, dtype: float64"
      ]
     },
     "execution_count": 10,
     "metadata": {},
     "output_type": "execute_result"
    }
   ],
   "source": [
    "correlation_mx['loan_default'].sort_values(ascending = False)\n"
   ]
  },
  {
   "cell_type": "markdown",
   "metadata": {},
   "source": [
    "#### The most correlated variables are:\n",
    "\n",
    "- Adhar_flag & VoterID_flag. (-0.9)\n",
    "- New Accts in last 6 months & PRI Active Accts.(0.7)\n",
    "- Disbursed_Amount & Asset_cost.(0.7)\n",
    "- SEC. No. of Accts & SEC.Active Accts. (1.0)\n",
    "- SEC. Current Balance & SEC Sanctioned Amount. (0.9)\n",
    "- SEC. Current Balance & SEC. Disbursed Amount. (0.9)\n",
    "- SEC Sanctioned Amount & SEC. Disbursed Amount. (1.0)\n",
    "- PRI Sanctioned Amount & PRI Disbursed Amount. (1.0)\n",
    "- PRI No. of Accts & PRI Active Accts. (0.8)\n",
    "\n"
   ]
  },
  {
   "cell_type": "markdown",
   "metadata": {},
   "source": [
    "### Data Preperation"
   ]
  },
  {
   "cell_type": "code",
   "execution_count": 28,
   "metadata": {},
   "outputs": [],
   "source": [
    "def preprocess_score(x):\n",
    "    if 'Not Scored' in x or 'No Bureau History Available' in x:\n",
    "        return 'Not Scored'\n",
    "    else:\n",
    "        return x\n",
    "\n",
    "def preprocess_years(x):\n",
    "    x_yrs = x.split()[0]\n",
    "    x_mon = x.split()[1]\n",
    "    n_years = x_yrs[:(len(x_yrs) - 3)]\n",
    "    n_mon = x_mon[:(len(x_mon) - 3)]\n",
    "    return int(n_years) * 12 + int(n_mon)\n",
    "\n",
    "def preprocess_birth(x):\n",
    "    if x[6:] != '00':\n",
    "        x = x[:6] + '19' + x[6:]\n",
    "    else:\n",
    "        x = x[:6] + '2000'\n",
    "    return x\n",
    "\n",
    "def map_by_mean(var, by, func='mean'):\n",
    "    if type(by) != list:\n",
    "        by = [by]\n",
    "    name = '{0}_by_{1}_mean'.format(var, by)\n",
    "    grp = df.groupby(by)[[var]].agg(func)\n",
    "    grp.columns = [name]\n",
    "    return pd.merge(df[by], grp, left_on=by, right_index=True, how='left')[name]\n"
   ]
  },
  {
   "cell_type": "code",
   "execution_count": 41,
   "metadata": {},
   "outputs": [
    {
     "name": "stderr",
     "output_type": "stream",
     "text": [
      "c:\\users\\aashith\\appdata\\local\\programs\\python\\python36\\lib\\site-packages\\ipykernel_launcher.py:3: FutureWarning: Sorting because non-concatenation axis is not aligned. A future version\n",
      "of pandas will change to not sort by default.\n",
      "\n",
      "To accept the future behavior, pass 'sort=False'.\n",
      "\n",
      "To retain the current behavior and silence the warning, pass 'sort=True'.\n",
      "\n",
      "  This is separate from the ipykernel package so we can avoid doing imports until\n"
     ]
    },
    {
     "data": {
      "text/plain": [
       "60"
      ]
     },
     "execution_count": 41,
     "metadata": {},
     "output_type": "execute_result"
    }
   ],
   "source": [
    "target = og_train_df['loan_default']\n",
    "del og_train_df['loan_default']\n",
    "df = pd.concat((train_df, test_df))\n",
    "gc.collect()"
   ]
  },
  {
   "cell_type": "code",
   "execution_count": 42,
   "metadata": {},
   "outputs": [
    {
     "name": "stdout",
     "output_type": "stream",
     "text": [
      "MobileNo_Avl_Flag dropped, nunique=1\n"
     ]
    }
   ],
   "source": [
    "# Removing columns with only one unique value\n",
    "for col in df.columns:\n",
    "    if df[col].nunique() == 1:\n",
    "        df.drop(col, axis=1, inplace=True)\n",
    "        print(f'{col} dropped, nunique=1')"
   ]
  },
  {
   "cell_type": "markdown",
   "metadata": {},
   "source": [
    "### Feature Engineering"
   ]
  },
  {
   "cell_type": "code",
   "execution_count": 45,
   "metadata": {},
   "outputs": [],
   "source": [
    "df['Date.of.Birth'] = pd.to_datetime(df['Date.of.Birth'], format='%d-%m-%Y', cache=True, errors='coerce')\n",
    "\n",
    "df['Date.of.Birth'] = pd.to_datetime(df['Date.of.Birth'], format='%d-%m-%Y', cache=True, errors='coerce')\n",
    "\n",
    "df['DisbursalDate'] = pd.to_datetime(df['DisbursalDate'], format='%d-%m-%y', cache=True)\n",
    "\n",
    "df['PERFORM_CNS.SCORE.DESCRIPTION'] = df['PERFORM_CNS.SCORE.DESCRIPTION'].apply(preprocess_score)\n",
    "\n",
    "df['AVERAGE.ACCT.AGE'] = df['AVERAGE.ACCT.AGE'].apply(preprocess_years)\n",
    "\n",
    "df['CREDIT.HISTORY.LENGTH'] = df['CREDIT.HISTORY.LENGTH'].apply(preprocess_years)"
   ]
  },
  {
   "cell_type": "markdown",
   "metadata": {},
   "source": [
    "#### Generating some new useful features"
   ]
  },
  {
   "cell_type": "code",
   "execution_count": 47,
   "metadata": {},
   "outputs": [],
   "source": [
    "df['dayofweek'] = df['DisbursalDate'].dt.weekday\n",
    "df['day'] = df['DisbursalDate'].dt.day\n",
    "df['share_overdue'] = df['DELINQUENT.ACCTS.IN.LAST.SIX.MONTHS'] - df['NEW.ACCTS.IN.LAST.SIX.MONTHS']\n",
    "\n",
    "df['years_on_loan'] = (df['DisbursalDate'] - df['Date.of.Birth']).astype('timedelta64[Y]')\n",
    "df['dis_as_diff'] = df['asset_cost'] - df['disbursed_amount']\n",
    "df['dis_as_share'] = df['asset_cost'] / df['disbursed_amount']\n",
    "df['diff_ltv_'] = df['dis_as_share'] - df['ltv']\n",
    "\n",
    "df['sec_overdue_share'] = df['SEC.OVERDUE.ACCTS'] / df['SEC.NO.OF.ACCTS']\n",
    "df['pri_overdue_share'] = df['PRI.OVERDUE.ACCTS'] / df['PRI.NO.OF.ACCTS']\n",
    "\n",
    "df['outstanding_now'] = df['disbursed_amount'] + df['PRI.CURRENT.BALANCE']\n",
    "df['disbursed_tot'] = df['PRI.DISBURSED.AMOUNT'] + df['disbursed_amount']\n",
    "df['out_to_disbursed'] = df['outstanding_now'] / df['disbursed_tot']"
   ]
  },
  {
   "cell_type": "markdown",
   "metadata": {},
   "source": [
    "#### Defining Categorical and Numeric feature columns"
   ]
  },
  {
   "cell_type": "code",
   "execution_count": 52,
   "metadata": {},
   "outputs": [],
   "source": [
    "cat_feature_col = ['branch_id', 'supplier_id',  'manufacturer_id',\n",
    "                  'Employment.Type', 'State_ID', 'Employee_code_ID',\n",
    "                  'PERFORM_CNS.SCORE.DESCRIPTION', 'Current_pincode_ID', 'years_on_loan']\n",
    "\n",
    "numeric_col = ['disbursed_amount', 'asset_cost', 'ltv',\n",
    "                'PERFORM_CNS.SCORE', 'NEW.ACCTS.IN.LAST.SIX.MONTHS', 'DELINQUENT.ACCTS.IN.LAST.SIX.MONTHS',\n",
    "                'AVERAGE.ACCT.AGE', 'CREDIT.HISTORY.LENGTH', 'NO.OF_INQUIRIES', 'pri_overdue_share']\n",
    "\n",
    "# additional check\n",
    "numeric_col = [x for x in numeric_col if x not in cat_feature_col]"
   ]
  },
  {
   "cell_type": "code",
   "execution_count": 53,
   "metadata": {},
   "outputs": [],
   "source": [
    "# fill NA with a random str value\n",
    "\n",
    "df['Employment.Type'].fillna('Missed', inplace=True)"
   ]
  },
  {
   "cell_type": "code",
   "execution_count": 54,
   "metadata": {},
   "outputs": [],
   "source": [
    "# calculate means by categorical features\n",
    "\n",
    "for name in cat_feature_col:\n",
    "    temp = df.groupby([name])[numeric_col].mean()\n",
    "    temp.columns = [col+'_grpd_by_'+name for col in temp.columns]\n",
    "    temp = temp.reset_index()\n",
    "    df = df.merge(temp, how='left', on=name)"
   ]
  },
  {
   "cell_type": "code",
   "execution_count": 55,
   "metadata": {},
   "outputs": [],
   "source": [
    "# calculating by group the difference between the mean and the real value\n",
    "\n",
    "grouped_cols = [col for col in df.columns if 'grpd' in col]\n",
    "\n",
    "for col in grouped_cols:\n",
    "    numcol = col.split('_grpd_by_')[0]\n",
    "    df[col] = df[numcol] - df[col]"
   ]
  },
  {
   "cell_type": "markdown",
   "metadata": {},
   "source": [
    "### Combinatorial Features and Frequency Encoding for categories"
   ]
  },
  {
   "cell_type": "code",
   "execution_count": 56,
   "metadata": {},
   "outputs": [],
   "source": [
    "# freq encoding\n",
    "\n",
    "for col in cat_feature_col:\n",
    "    df[col] = df[col].map(df[col].value_counts(normalize=True))"
   ]
  },
  {
   "cell_type": "code",
   "execution_count": 58,
   "metadata": {},
   "outputs": [],
   "source": [
    "df['scr_by_sup_man'] = df['PERFORM_CNS.SCORE'] / map_by_mean('PERFORM_CNS.SCORE', ['supplier_id',  'manufacturer_id'])\n",
    "df['ltv_by_sup_man'] = df['ltv'] / map_by_mean('ltv', ['supplier_id',  'manufacturer_id'])\n",
    "\n",
    "df['scr_by_sup_branch'] = df['PERFORM_CNS.SCORE'] / map_by_mean('PERFORM_CNS.SCORE', ['supplier_id',  'branch_id'])\n",
    "df['ltv_by_sup_branch'] = df['ltv'] / map_by_mean('ltv', ['supplier_id',  'branch_id'])\n",
    "\n",
    "df['scr_by_man_branch'] = df['PERFORM_CNS.SCORE'] / map_by_mean('PERFORM_CNS.SCORE', ['manufacturer_id',  'branch_id'])\n",
    "df['ltv_by_man_branch'] = df['ltv'] / map_by_mean('ltv', ['manufacturer_id',  'branch_id'])"
   ]
  },
  {
   "cell_type": "code",
   "execution_count": 59,
   "metadata": {},
   "outputs": [],
   "source": [
    "df['scr_by_man_branch_sup'] = df['PERFORM_CNS.SCORE'] / map_by_mean('PERFORM_CNS.SCORE', ['manufacturer_id',\n",
    "                                                                                            'branch_id',\n",
    "                                                                                            'supplier_id'])\n",
    "df['ltv_by_man_branch_sup'] = df['ltv'] / map_by_mean('ltv', ['manufacturer_id',\n",
    "                                                                'branch_id',\n",
    "                                                                'supplier_id'])\n",
    "\n",
    "df['scr_by_state_branch'] = df['PERFORM_CNS.SCORE'] / map_by_mean('PERFORM_CNS.SCORE', ['State_ID',  'branch_id'])\n",
    "df['ltv_by_state_branch'] = df['ltv'] / map_by_mean('ltv', ['State_ID',  'branch_id'])\n",
    "\n",
    "df['scr_by_state_man'] = df['PERFORM_CNS.SCORE'] / map_by_mean('PERFORM_CNS.SCORE', ['State_ID',  'manufacturer_id'])\n",
    "df['ltv_by_state_man'] = df['ltv'] / map_by_mean('ltv', ['State_ID',  'manufacturer_id'])"
   ]
  },
  {
   "cell_type": "code",
   "execution_count": 60,
   "metadata": {},
   "outputs": [],
   "source": [
    "df['scr_by_state_sup'] = df['PERFORM_CNS.SCORE'] / map_by_mean('PERFORM_CNS.SCORE', ['State_ID',  'supplier_id'])\n",
    "df['ltv_by_state_sup'] = df['ltv'] / map_by_mean('ltv', ['State_ID',  'supplier_id'])\n",
    "\n",
    "df['scr_by_emp_branch'] = df['PERFORM_CNS.SCORE'] / map_by_mean('PERFORM_CNS.SCORE', ['Employee_code_ID',  'branch_id'])\n",
    "df['ltv_by_emp_branch'] = df['ltv'] / map_by_mean('ltv', ['Employee_code_ID',  'branch_id'])\n",
    "\n",
    "df['scr_by_sup_emp'] = df['PERFORM_CNS.SCORE'] / map_by_mean('PERFORM_CNS.SCORE', ['Employee_code_ID',  'supplier_id'])\n",
    "df['ltv_by_sup_emp'] = df['ltv'] / map_by_mean('ltv', ['Employee_code_ID',  'supplier_id'])\n",
    "df['scr_by_emp_branch_sup'] = df['PERFORM_CNS.SCORE'] / map_by_mean('PERFORM_CNS.SCORE', ['Employee_code_ID',\n",
    "                                                                                            'branch_id',\n",
    "                                                                                            'supplier_id'])"
   ]
  },
  {
   "cell_type": "code",
   "execution_count": 62,
   "metadata": {},
   "outputs": [],
   "source": [
    "df['ltv_by_emp_branch_sup'] = df['ltv'] / map_by_mean('ltv', ['Employee_code_ID',\n",
    "                                                                'branch_id',\n",
    "                                                                'supplier_id'])\n",
    "\n",
    "df['inq_by_sup_man'] = df['NO.OF_INQUIRIES'] / map_by_mean('NO.OF_INQUIRIES', ['supplier_id',  'manufacturer_id'])\n",
    "\n",
    "df['inq_by_sup_branch'] = df['NO.OF_INQUIRIES'] / map_by_mean('NO.OF_INQUIRIES', ['supplier_id',  'branch_id'])\n",
    "\n",
    "df['inq_by_man_branch'] = df['NO.OF_INQUIRIES'] / map_by_mean('disbursed_amount', ['manufacturer_id',  'branch_id'])\n",
    "\n",
    "df['inq_by_man_branch_sup'] = df['NO.OF_INQUIRIES'] / map_by_mean('NO.OF_INQUIRIES', ['manufacturer_id','branch_id','supplier_id'])\n",
    "df['inq_by_emp_branch'] = df['NO.OF_INQUIRIES'] / map_by_mean('NO.OF_INQUIRIES', ['Employee_code_ID',  'branch_id'])\n",
    "\n",
    "df['scr_by_age_emptype'] = df['PERFORM_CNS.SCORE'] / map_by_mean('PERFORM_CNS.SCORE', ['Employment.Type',\n",
    "                                                                                         'years_on_loan'])\n",
    "df['ltv_by_age_emptype'] = df['ltv'] / map_by_mean('ltv', ['Employment.Type', 'years_on_loan'])"
   ]
  },
  {
   "cell_type": "code",
   "execution_count": 65,
   "metadata": {},
   "outputs": [
    {
     "name": "stderr",
     "output_type": "stream",
     "text": [
      "c:\\users\\aashith\\appdata\\local\\programs\\python\\python36\\lib\\site-packages\\ipykernel_launcher.py:4: SettingWithCopyWarning: \n",
      "A value is trying to be set on a copy of a slice from a DataFrame.\n",
      "Try using .loc[row_indexer,col_indexer] = value instead\n",
      "\n",
      "See the caveats in the documentation: http://pandas.pydata.org/pandas-docs/stable/user_guide/indexing.html#returning-a-view-versus-a-copy\n",
      "  after removing the cwd from sys.path.\n"
     ]
    }
   ],
   "source": [
    "# splitting to train and test again\n",
    "train_data = df.iloc[:len(train_df), :]\n",
    "test_data = df.iloc[len(train_df):, :]\n",
    "train_data['loan_default'] = target\n"
   ]
  },
  {
   "cell_type": "markdown",
   "metadata": {},
   "source": [
    "### Cross Validation"
   ]
  },
  {
   "cell_type": "code",
   "execution_count": 66,
   "metadata": {},
   "outputs": [
    {
     "name": "stderr",
     "output_type": "stream",
     "text": [
      "c:\\users\\aashith\\appdata\\local\\programs\\python\\python36\\lib\\site-packages\\ipykernel_launcher.py:4: SettingWithCopyWarning: \n",
      "A value is trying to be set on a copy of a slice from a DataFrame.\n",
      "Try using .loc[row_indexer,col_indexer] = value instead\n",
      "\n",
      "See the caveats in the documentation: http://pandas.pydata.org/pandas-docs/stable/user_guide/indexing.html#returning-a-view-versus-a-copy\n",
      "  after removing the cwd from sys.path.\n"
     ]
    }
   ],
   "source": [
    "skfold = StratifiedKFold(n_splits=5, shuffle=True, random_state=138)\n",
    "\n",
    "oof = train_data[['UniqueID', 'loan_default']]\n",
    "oof['predict'] = 0\n",
    "\n",
    "predictions = test_data[['UniqueID']]\n",
    "val_aucs = []"
   ]
  },
  {
   "cell_type": "code",
   "execution_count": 67,
   "metadata": {},
   "outputs": [],
   "source": [
    "features = [col for col in train_data.columns if col not in ['UniqueID', 'loan_default', 'Date.of.Birth', 'DisbursalDate']]\n",
    "X_test = test_data[features].values"
   ]
  },
  {
   "cell_type": "code",
   "execution_count": 68,
   "metadata": {},
   "outputs": [],
   "source": [
    "# Using LGBM Classifier\n",
    "lgb_clf = lgb.LGBMClassifier(\n",
    "                              boosting_type= 'gbdt',\n",
    "                              learning_rate= 0.05,\n",
    "                              n_estimators= 750,\n",
    "                              num_leaves= 16,\n",
    "                              objective= 'binary',\n",
    "                              reg_lambda= 5,\n",
    "                              seed= 15,\n",
    "                              subsample= 0.5,\n",
    "                              colsample_bytree=0.5\n",
    "                              )"
   ]
  },
  {
   "cell_type": "markdown",
   "metadata": {},
   "source": [
    "### Training the data"
   ]
  },
  {
   "cell_type": "code",
   "execution_count": 70,
   "metadata": {},
   "outputs": [],
   "source": [
    "for fold, (trn_idx, val_idx) in enumerate(skfold.split(train_data, train_data['loan_default'])):\n",
    "    \n",
    "    X_train, y_train = train_data.iloc[trn_idx][features], train_data.iloc[trn_idx]['loan_default']\n",
    "    X_valid, y_valid = train_data.iloc[val_idx][features], train_data.iloc[val_idx]['loan_default']\n",
    "\n",
    "    p_valid, yp = 0, 0\n",
    "\n",
    "    lgb_clf.fit(X_train, y_train)\n",
    "    p_valid += lgb_clf.predict_proba(X_valid)[:, 1]\n",
    "    yp += lgb_clf.predict_proba(X_test)[:, 1]\n",
    "\n",
    "    oof['predict'][val_idx] = p_valid\n",
    "    val_score = roc_auc_score(y_valid, p_valid)\n",
    "    val_aucs.append(val_score)\n",
    "\n",
    "    predictions['fold{}'.format(fold + 1)] = yp"
   ]
  },
  {
   "cell_type": "code",
   "execution_count": 71,
   "metadata": {},
   "outputs": [
    {
     "name": "stdout",
     "output_type": "stream",
     "text": [
      "Mean auc: 0.670651728, std: 0.002432613. All auc: 0.670628549.\n"
     ]
    }
   ],
   "source": [
    "mean_auc = np.mean(val_aucs)\n",
    "std_auc = np.std(val_aucs)\n",
    "all_auc = roc_auc_score(oof['loan_default'], oof['predict'])\n",
    "\n",
    "print(\"Mean auc: %.9f, std: %.9f. All auc: %.9f.\" % (mean_auc, std_auc, all_auc))"
   ]
  },
  {
   "cell_type": "code",
   "execution_count": 72,
   "metadata": {},
   "outputs": [],
   "source": [
    "# Making Predictions\n",
    "\n",
    "predictions['loan_default'] = np.mean(predictions[[col for col in predictions.columns if col not in ['UniqueID', 'loan_default']]].values, axis=1)\n",
    "predictions.to_csv('./data/lgb_all_predictions_wmean1_mod3.csv', index=None)"
   ]
  },
  {
   "cell_type": "code",
   "execution_count": null,
   "metadata": {},
   "outputs": [],
   "source": []
  }
 ],
 "metadata": {
  "kernelspec": {
   "display_name": "Python 3",
   "language": "python",
   "name": "python3"
  },
  "language_info": {
   "codemirror_mode": {
    "name": "ipython",
    "version": 3
   },
   "file_extension": ".py",
   "mimetype": "text/x-python",
   "name": "python",
   "nbconvert_exporter": "python",
   "pygments_lexer": "ipython3",
   "version": "3.6.4"
  }
 },
 "nbformat": 4,
 "nbformat_minor": 2
}
